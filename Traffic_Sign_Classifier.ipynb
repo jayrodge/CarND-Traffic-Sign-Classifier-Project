{
 "cells": [
  {
   "cell_type": "markdown",
   "metadata": {
    "colab_type": "text",
    "id": "0TfgteQVVUq2"
   },
   "source": [
    "# Self-Driving Car Engineer Nanodegree\n",
    "\n",
    "## Deep Learning\n",
    "\n",
    "## Project: Build a Traffic Sign Recognition Classifier\n",
    "\n",
    "In this notebook, a template is provided for you to implement your functionality in stages, which is required to successfully complete this project. If additional code is required that cannot be included in the notebook, be sure that the Python code is successfully imported and included in your submission if necessary. \n",
    "\n",
    "> **Note**: Once you have completed all of the code implementations, you need to finalize your work by exporting the iPython Notebook as an HTML document. Before exporting the notebook to html, all of the code cells need to have been run so that reviewers can see the final implementation and output. You can then export the notebook by using the menu above and navigating to  \\n\",\n",
    "    \"**File -> Download as -> HTML (.html)**. Include the finished document along with this notebook as your submission. \n",
    "\n",
    "In addition to implementing code, there is a writeup to complete. The writeup should be completed in a separate file, which can be either a markdown file or a pdf document. There is a [write up template](https://github.com/udacity/CarND-Traffic-Sign-Classifier-Project/blob/master/writeup_template.md) that can be used to guide the writing process. Completing the code template and writeup template will cover all of the [rubric points](https://review.udacity.com/#!/rubrics/481/view) for this project.\n",
    "\n",
    "The [rubric](https://review.udacity.com/#!/rubrics/481/view) contains \"Stand Out Suggestions\" for enhancing the project beyond the minimum requirements. The stand out suggestions are optional. If you decide to pursue the \"stand out suggestions\", you can include the code in this Ipython notebook and also discuss the results in the writeup file.\n",
    "\n",
    "\n",
    ">**Note:** Code and Markdown cells can be executed using the **Shift + Enter** keyboard shortcut. In addition, Markdown cells can be edited by typically double-clicking the cell to enter edit mode."
   ]
  },
  {
   "cell_type": "markdown",
   "metadata": {
    "colab_type": "text",
    "id": "-gDhZJ2nVUq4"
   },
   "source": [
    "---\n",
    "## Step 0: Load The Data"
   ]
  },
  {
   "cell_type": "code",
   "execution_count": 0,
   "metadata": {
    "colab": {
     "autoexec": {
      "startup": false,
      "wait_interval": 0
     }
    },
    "colab_type": "code",
    "id": "xLCyZiSeVUq4"
   },
   "outputs": [],
   "source": [
    "# Load pickled data\n",
    "import pickle\n",
    "import numpy\n",
    "import cv2\n",
    "# TODO: Fill this in based on where you saved the training and testing data\n",
    "\n",
    "training_file = 'drive/Nanodegree/train.p'\n",
    "validation_file='drive/Nanodegree/valid.p'\n",
    "testing_file = 'drive/Nanodegree/test.p'\n",
    "\n",
    "with open(training_file, mode='rb') as f:\n",
    "    train = pickle.load(f)\n",
    "with open(validation_file, mode='rb') as f:\n",
    "    valid = pickle.load(f)\n",
    "with open(testing_file, mode='rb') as f:\n",
    "    test = pickle.load(f)\n",
    "    \n",
    "X_train, y_train = train['features'], train['labels']\n",
    "X_valid, y_valid = valid['features'], valid['labels']\n",
    "X_test, y_test = test['features'], test['labels']"
   ]
  },
  {
   "cell_type": "code",
   "execution_count": 0,
   "metadata": {
    "colab": {
     "autoexec": {
      "startup": false,
      "wait_interval": 0
     }
    },
    "colab_type": "code",
    "id": "eMmEZQoQVUq8"
   },
   "outputs": [],
   "source": [
    "#set(y_train)"
   ]
  },
  {
   "cell_type": "markdown",
   "metadata": {
    "colab_type": "text",
    "id": "JSE75RUyVUq_"
   },
   "source": [
    "---\n",
    "\n",
    "## Step 1: Dataset Summary & Exploration\n",
    "\n",
    "The pickled data is a dictionary with 4 key/value pairs:\n",
    "\n",
    "- `'features'` is a 4D array containing raw pixel data of the traffic sign images, (num examples, width, height, channels).\n",
    "- `'labels'` is a 1D array containing the label/class id of the traffic sign. The file `signnames.csv` contains id -> name mappings for each id.\n",
    "- `'sizes'` is a list containing tuples, (width, height) representing the original width and height the image.\n",
    "- `'coords'` is a list containing tuples, (x1, y1, x2, y2) representing coordinates of a bounding box around the sign in the image. **THESE COORDINATES ASSUME THE ORIGINAL IMAGE. THE PICKLED DATA CONTAINS RESIZED VERSIONS (32 by 32) OF THESE IMAGES**\n",
    "\n",
    "Complete the basic data summary below. Use python, numpy and/or pandas methods to calculate the data summary rather than hard coding the results. For example, the [pandas shape method](http://pandas.pydata.org/pandas-docs/stable/generated/pandas.DataFrame.shape.html) might be useful for calculating some of the summary results. "
   ]
  },
  {
   "cell_type": "markdown",
   "metadata": {
    "colab_type": "text",
    "id": "c20vb0jTVUrA"
   },
   "source": [
    "### Provide a Basic Summary of the Data Set Using Python, Numpy and/or Pandas"
   ]
  },
  {
   "cell_type": "code",
   "execution_count": 2,
   "metadata": {
    "colab": {
     "autoexec": {
      "startup": false,
      "wait_interval": 0
     },
     "base_uri": "https://localhost:8080/",
     "height": 89
    },
    "colab_type": "code",
    "executionInfo": {
     "elapsed": 915,
     "status": "ok",
     "timestamp": 1523641821323,
     "user": {
      "displayName": "Jay Rodge",
      "photoUrl": "//lh3.googleusercontent.com/-DtQUHBRkzfQ/AAAAAAAAAAI/AAAAAAAAABQ/179kaxvx-yw/s50-c-k-no/photo.jpg",
      "userId": "112626264400025123297"
     },
     "user_tz": -330
    },
    "id": "Z2EDYAllVUrA",
    "outputId": "017017cd-5dd0-4e8e-8cea-cd33233c5c59"
   },
   "outputs": [
    {
     "name": "stdout",
     "output_type": "stream",
     "text": [
      "Number of training examples = 34799\n",
      "Number of testing examples = 12630\n",
      "Image data shape = (32, 32, 3)\n",
      "Number of classes = 43\n"
     ]
    }
   ],
   "source": [
    "### Replace each question mark with the appropriate value. \n",
    "### Use python, pandas or numpy methods rather than hard coding the results\n",
    "\n",
    "# TODO: Number of training examples\n",
    "n_train = 34799\n",
    "\n",
    "# TODO: Number of validation examples\n",
    "n_validation = 4410\n",
    "\n",
    "# TODO: Number of testing examples.\n",
    "n_test = 12630\n",
    "\n",
    "# TODO: What's the shape of an traffic sign image?\n",
    "image_shape = X_train[1].shape\n",
    "\n",
    "# TODO: How many unique classes/labels there are in the dataset.\n",
    "n_classes = 43\n",
    "\n",
    "print(\"Number of training examples =\", n_train)\n",
    "print(\"Number of testing examples =\", n_test)\n",
    "print(\"Image data shape =\", image_shape)\n",
    "print(\"Number of classes =\", n_classes)"
   ]
  },
  {
   "cell_type": "markdown",
   "metadata": {
    "colab_type": "text",
    "id": "B03qLHE0VUrG"
   },
   "source": [
    "### Include an exploratory visualization of the dataset"
   ]
  },
  {
   "cell_type": "markdown",
   "metadata": {
    "colab_type": "text",
    "id": "LczMIPDFVUrH"
   },
   "source": [
    "Visualize the German Traffic Signs Dataset using the pickled file(s). This is open ended, suggestions include: plotting traffic sign images, plotting the count of each sign, etc. \n",
    "\n",
    "The [Matplotlib](http://matplotlib.org/) [examples](http://matplotlib.org/examples/index.html) and [gallery](http://matplotlib.org/gallery.html) pages are a great resource for doing visualizations in Python.\n",
    "\n",
    "**NOTE:** It's recommended you start with something simple first. If you wish to do more, come back to it after you've completed the rest of the sections. It can be interesting to look at the distribution of classes in the training, validation and test set. Is the distribution the same? Are there more examples of some classes than others?"
   ]
  },
  {
   "cell_type": "code",
   "execution_count": 0,
   "metadata": {
    "colab": {
     "autoexec": {
      "startup": false,
      "wait_interval": 0
     }
    },
    "colab_type": "code",
    "id": "I-RwaqS5VUrI"
   },
   "outputs": [],
   "source": [
    "### Data exploration visualization code goes here.\n",
    "### Feel free to use as many code cells as needed.\n",
    "import matplotlib.pyplot as plt\n",
    "# Visualizations will be shown in the notebook.\n",
    "%matplotlib inline\n",
    "import numpy as np"
   ]
  },
  {
   "cell_type": "markdown",
   "metadata": {
    "colab_type": "text",
    "id": "3_qtz4kqVUrK"
   },
   "source": [
    "----\n",
    "\n",
    "## Step 2: Design and Test a Model Architecture\n",
    "\n",
    "Design and implement a deep learning model that learns to recognize traffic signs. Train and test your model on the [German Traffic Sign Dataset](http://benchmark.ini.rub.de/?section=gtsrb&subsection=dataset).\n",
    "\n",
    "The LeNet-5 implementation shown in the [classroom](https://classroom.udacity.com/nanodegrees/nd013/parts/fbf77062-5703-404e-b60c-95b78b2f3f9e/modules/6df7ae49-c61c-4bb2-a23e-6527e69209ec/lessons/601ae704-1035-4287-8b11-e2c2716217ad/concepts/d4aca031-508f-4e0b-b493-e7b706120f81) at the end of the CNN lesson is a solid starting point. You'll have to change the number of classes and possibly the preprocessing, but aside from that it's plug and play! \n",
    "\n",
    "With the LeNet-5 solution from the lecture, you should expect a validation set accuracy of about 0.89. To meet specifications, the validation set accuracy will need to be at least 0.93. It is possible to get an even higher accuracy, but 0.93 is the minimum for a successful project submission. \n",
    "\n",
    "There are various aspects to consider when thinking about this problem:\n",
    "\n",
    "- Neural network architecture (is the network over or underfitting?)\n",
    "- Play around preprocessing techniques (normalization, rgb to grayscale, etc)\n",
    "- Number of examples per label (some have more than others).\n",
    "- Generate fake data.\n",
    "\n",
    "Here is an example of a [published baseline model on this problem](http://yann.lecun.com/exdb/publis/pdf/sermanet-ijcnn-11.pdf). It's not required to be familiar with the approach used in the paper but, it's good practice to try to read papers like these."
   ]
  },
  {
   "cell_type": "markdown",
   "metadata": {
    "colab_type": "text",
    "id": "mWxrg4WbVUrK"
   },
   "source": [
    "### Pre-process the Data Set (normalization, grayscale, etc.)"
   ]
  },
  {
   "cell_type": "markdown",
   "metadata": {
    "colab_type": "text",
    "id": "54M9Z34RVUrL"
   },
   "source": [
    "Minimally, the image data should be normalized so that the data has mean zero and equal variance. For image data, `(pixel - 128)/ 128` is a quick way to approximately normalize the data and can be used in this project. \n",
    "\n",
    "Other pre-processing steps are optional. You can try different techniques to see if it improves performance. \n",
    "\n",
    "Use the code cell (or multiple code cells, if necessary) to implement the first step of your project."
   ]
  },
  {
   "cell_type": "code",
   "execution_count": 0,
   "metadata": {
    "colab": {
     "autoexec": {
      "startup": false,
      "wait_interval": 0
     }
    },
    "colab_type": "code",
    "id": "XBN83-5DVUrM"
   },
   "outputs": [],
   "source": [
    "#Converting Image into Grayscale\n",
    "X_train_gray=np.sum(X_train/3, axis=3, keepdims=True)\n",
    "X_test_gray=np.sum(X_test/3, axis=3, keepdims=True)\n",
    "X_valid_gray=np.sum(X_valid/3, axis=3, keepdims=True)"
   ]
  },
  {
   "cell_type": "code",
   "execution_count": 0,
   "metadata": {
    "colab": {
     "autoexec": {
      "startup": false,
      "wait_interval": 0
     }
    },
    "colab_type": "code",
    "id": "6ix0Opp_VUrP"
   },
   "outputs": [],
   "source": [
    "### Preprocess the data here. It is required to normalize the data. Other preprocessing steps could include \n",
    "X_train_normalized = (X_train_gray - 128)/128 \n",
    "X_test_normalized = (X_test_gray - 128)/128\n",
    "X_valid_normalized= (X_valid_gray - 128)/128"
   ]
  },
  {
   "cell_type": "code",
   "execution_count": 6,
   "metadata": {
    "colab": {
     "autoexec": {
      "startup": false,
      "wait_interval": 0
     },
     "base_uri": "https://localhost:8080/",
     "height": 35
    },
    "colab_type": "code",
    "executionInfo": {
     "elapsed": 797,
     "status": "ok",
     "timestamp": 1523641832470,
     "user": {
      "displayName": "Jay Rodge",
      "photoUrl": "//lh3.googleusercontent.com/-DtQUHBRkzfQ/AAAAAAAAAAI/AAAAAAAAABQ/179kaxvx-yw/s50-c-k-no/photo.jpg",
      "userId": "112626264400025123297"
     },
     "user_tz": -330
    },
    "id": "Oo3zcfVeVUrT",
    "outputId": "4433c99e-4f74-472c-c157-9635f0a71942"
   },
   "outputs": [
    {
     "data": {
      "text/plain": [
       "(34799, 32, 32, 1)"
      ]
     },
     "execution_count": 6,
     "metadata": {
      "tags": []
     },
     "output_type": "execute_result"
    }
   ],
   "source": [
    "X_train_normalized.shape"
   ]
  },
  {
   "cell_type": "code",
   "execution_count": 7,
   "metadata": {
    "colab": {
     "autoexec": {
      "startup": false,
      "wait_interval": 0
     },
     "base_uri": "https://localhost:8080/",
     "height": 35
    },
    "colab_type": "code",
    "executionInfo": {
     "elapsed": 935,
     "status": "ok",
     "timestamp": 1523641833861,
     "user": {
      "displayName": "Jay Rodge",
      "photoUrl": "//lh3.googleusercontent.com/-DtQUHBRkzfQ/AAAAAAAAAAI/AAAAAAAAABQ/179kaxvx-yw/s50-c-k-no/photo.jpg",
      "userId": "112626264400025123297"
     },
     "user_tz": -330
    },
    "id": "3BAqxDDalMFE",
    "outputId": "bae19598-dd2d-4afb-dc1a-b8167466d7e8"
   },
   "outputs": [
    {
     "data": {
      "text/plain": [
       "(4410, 32, 32, 1)"
      ]
     },
     "execution_count": 7,
     "metadata": {
      "tags": []
     },
     "output_type": "execute_result"
    }
   ],
   "source": [
    "X_valid_normalized.shape"
   ]
  },
  {
   "cell_type": "code",
   "execution_count": 8,
   "metadata": {
    "colab": {
     "autoexec": {
      "startup": false,
      "wait_interval": 0
     },
     "base_uri": "https://localhost:8080/",
     "height": 35
    },
    "colab_type": "code",
    "executionInfo": {
     "elapsed": 731,
     "status": "ok",
     "timestamp": 1523641835327,
     "user": {
      "displayName": "Jay Rodge",
      "photoUrl": "//lh3.googleusercontent.com/-DtQUHBRkzfQ/AAAAAAAAAAI/AAAAAAAAABQ/179kaxvx-yw/s50-c-k-no/photo.jpg",
      "userId": "112626264400025123297"
     },
     "user_tz": -330
    },
    "id": "Znn3VZaulMNA",
    "outputId": "265ebe61-4b3c-4477-b6b0-5f6fc0d54b91"
   },
   "outputs": [
    {
     "data": {
      "text/plain": [
       "(12630, 32, 32, 1)"
      ]
     },
     "execution_count": 8,
     "metadata": {
      "tags": []
     },
     "output_type": "execute_result"
    }
   ],
   "source": [
    "X_test_normalized.shape"
   ]
  },
  {
   "cell_type": "code",
   "execution_count": 9,
   "metadata": {
    "colab": {
     "autoexec": {
      "startup": false,
      "wait_interval": 0
     },
     "base_uri": "https://localhost:8080/",
     "height": 124
    },
    "colab_type": "code",
    "executionInfo": {
     "elapsed": 948,
     "status": "ok",
     "timestamp": 1523641836657,
     "user": {
      "displayName": "Jay Rodge",
      "photoUrl": "//lh3.googleusercontent.com/-DtQUHBRkzfQ/AAAAAAAAAAI/AAAAAAAAABQ/179kaxvx-yw/s50-c-k-no/photo.jpg",
      "userId": "112626264400025123297"
     },
     "user_tz": -330
    },
    "id": "ittwDEHbVUri",
    "outputId": "5df1663e-4ec0-48fa-91c5-a223b818d451"
   },
   "outputs": [
    {
     "name": "stdout",
     "output_type": "stream",
     "text": [
      "20\n"
     ]
    },
    {
     "data": {
      "image/png": "[encoded data removed]",
      "text/plain": [
       "<matplotlib.figure.Figure at 0x7f3e8c4c39b0>"
      ]
     },
     "metadata": {
      "tags": []
     },
     "output_type": "display_data"
    }
   ],
   "source": [
    "#Plotting Random Image from training set\n",
    "import random\n",
    "index = random.randint(456, len(X_train_normalized))\n",
    "image = X_train_normalized[index].squeeze()\n",
    "\n",
    "plt.figure(figsize=(1,1))\n",
    "plt.imshow(image,cmap='gray')\n",
    "print(y_train[index])\n"
   ]
  },
  {
   "cell_type": "markdown",
   "metadata": {
    "colab_type": "text",
    "id": "b4AlkcUWVUrm"
   },
   "source": [
    "### Model Architecture"
   ]
  },
  {
   "cell_type": "code",
   "execution_count": 0,
   "metadata": {
    "colab": {
     "autoexec": {
      "startup": false,
      "wait_interval": 0
     }
    },
    "colab_type": "code",
    "id": "QkazUSduVUrq"
   },
   "outputs": [],
   "source": [
    "import tensorflow as tf\n",
    "from tensorflow.contrib.layers import flatten\n",
    "\n",
    "def LeNet(x):    \n",
    "    # Arguments used for tf.truncated_normal, randomly defines variables for the weights and biases for each layer\n",
    "    mu = 0\n",
    "    sigma = 0.1\n",
    "    \n",
    "    # SOLUTION: Layer 1: Convolutional. Input = 32x32x1. Output = 28x28x6.\n",
    "    conv1_W = tf.Variable(tf.truncated_normal(shape=(5, 5, 1, 6), mean = mu, stddev = sigma))\n",
    "    conv1_b = tf.Variable(tf.zeros(6))\n",
    "    conv1   = tf.nn.conv2d(x, conv1_W, strides=[1, 1, 1, 1], padding='VALID') + conv1_b\n",
    "\n",
    "    # SOLUTION: Activation.\n",
    "    conv1 = tf.nn.relu(conv1)\n",
    "\n",
    "    # SOLUTION: Pooling. Input = 28x28x6. Output = 14x14x6.\n",
    "    conv1 = tf.nn.max_pool(conv1, ksize=[1, 2, 2, 1], strides=[1, 2, 2, 1], padding='VALID')\n",
    "\n",
    "    # SOLUTION: Layer 2: Convolutional. Output = 10x10x16.\n",
    "    conv2_W = tf.Variable(tf.truncated_normal(shape=(5, 5, 6, 16), mean = mu, stddev = sigma))\n",
    "    conv2_b = tf.Variable(tf.zeros(16))\n",
    "    conv2   = tf.nn.conv2d(conv1, conv2_W, strides=[1, 1, 1, 1], padding='VALID') + conv2_b\n",
    "    \n",
    "    # SOLUTION: Activation.\n",
    "    conv2 = tf.nn.relu(conv2)\n",
    "\n",
    "    # SOLUTION: Pooling. Input = 10x10x16. Output = 5x5x16.\n",
    "    conv2 = tf.nn.max_pool(conv2, ksize=[1, 2, 2, 1], strides=[1, 2, 2, 1], padding='VALID')\n",
    "    \n",
    "    # SOLUTION: Layer 3: Convolutional. Output = 1x1x400.\n",
    "    conv3_W = tf.Variable(tf.truncated_normal(shape=(5, 5, 16, 400), mean = mu, stddev = sigma))\n",
    "    conv3_b = tf.Variable(tf.zeros(400))\n",
    "    conv3   = tf.nn.conv2d(conv2, conv3_W, strides=[1, 1, 1, 1], padding='VALID') + conv3_b\n",
    "    \n",
    "    # SOLUTION: Activation.\n",
    "    conv3 = tf.nn.relu(conv3)\n",
    "    \n",
    "    # SOLUTION: Flatten. Input = 5x5x16. Output = 400.\n",
    "    fc0   = flatten(conv3)\n",
    "    \n",
    "    # SOLUTION: Layer 3: Fully Connected. Input = 400. Output = 200.\n",
    "    fc1_W = tf.Variable(tf.truncated_normal(shape=(400, 200), mean = mu, stddev = sigma))\n",
    "    fc1_b = tf.Variable(tf.zeros(200))\n",
    "    fc1   = tf.matmul(fc0, fc1_W) + fc1_b\n",
    "    \n",
    "    # SOLUTION: Activation.\n",
    "    fc1    = tf.nn.relu(fc1)\n",
    "    fc1=tf.nn.dropout(fc1,0.7)\n",
    "\n",
    "    # SOLUTION: Layer 4: Fully Connected. Input = 200. Output = 120.\n",
    "    fc2_W  = tf.Variable(tf.truncated_normal(shape=(200, 120), mean = mu, stddev = sigma))\n",
    "    fc2_b  = tf.Variable(tf.zeros(120))\n",
    "    fc2    = tf.matmul(fc1, fc2_W) + fc2_b\n",
    "    \n",
    "    # SOLUTION: Activation.\n",
    "    fc2    = tf.nn.relu(fc2)\n",
    "    fc2=tf.nn.dropout(fc2,0.7)\n",
    "    \n",
    "     # SOLUTION: Layer 5: Fully Connected. Input = 120. Output = 84.\n",
    "    fcn_W  = tf.Variable(tf.truncated_normal(shape=(120, 84), mean = mu, stddev = sigma))\n",
    "    fcn_b  = tf.Variable(tf.zeros(84))\n",
    "    fcn    = tf.matmul(fc2, fcn_W) + fcn_b\n",
    "    \n",
    "    # SOLUTION: Activation.\n",
    "    fcn    = tf.nn.relu(fcn)\n",
    "    fcn    = tf.nn.dropout(fcn,1.0)\n",
    "\n",
    "    # SOLUTION: Layer 6: Fully Connected. Input = 84. Output = 43.\n",
    "    fc3_W  = tf.Variable(tf.truncated_normal(shape=(84, 43), mean = mu, stddev = sigma))\n",
    "    fc3_b  = tf.Variable(tf.zeros(43))\n",
    "    logits = tf.matmul(fcn, fc3_W) + fc3_b\n",
    "    \n",
    "    return logits"
   ]
  },
  {
   "cell_type": "code",
   "execution_count": 0,
   "metadata": {
    "colab": {
     "autoexec": {
      "startup": false,
      "wait_interval": 0
     },
     "base_uri": "https://localhost:8080/",
     "height": 71
    },
    "colab_type": "code",
    "executionInfo": {
     "elapsed": 2080,
     "status": "ok",
     "timestamp": 1523514340637,
     "user": {
      "displayName": "Jay Rodge",
      "photoUrl": "//lh4.googleusercontent.com/-D9orSUO0DtQ/AAAAAAAAAAI/AAAAAAAAdDI/i6y921NDksQ/s50-c-k-no/photo.jpg",
      "userId": "106496062544740474963"
     },
     "user_tz": -330
    },
    "id": "Tk2HN8COVUrs",
    "outputId": "8932ba39-56d6-4068-81fe-db6f35e56afa"
   },
   "outputs": [
    {
     "name": "stdout",
     "output_type": "stream",
     "text": [
      "checkpoint\t\t   lenet.index\ttraffic-signs-data.zip\r\n",
      "datalab\t\t\t   lenet.meta\ttrain.p\r\n",
      "lenet.data-00000-of-00001  test.p\tvalid.p\r\n"
     ]
    }
   ],
   "source": [
    "!ls"
   ]
  },
  {
   "cell_type": "code",
   "execution_count": 0,
   "metadata": {
    "colab": {
     "autoexec": {
      "startup": false,
      "wait_interval": 0
     }
    },
    "colab_type": "code",
    "id": "3w7L2ypYVUru"
   },
   "outputs": [],
   "source": [
    "x = tf.placeholder(tf.float32, (None, 32, 32, 1))\n",
    "y = tf.placeholder(tf.int32, (None))\n",
    "one_hot_y = tf.one_hot(y, 43)"
   ]
  },
  {
   "cell_type": "code",
   "execution_count": 12,
   "metadata": {
    "colab": {
     "autoexec": {
      "startup": false,
      "wait_interval": 0
     },
     "base_uri": "https://localhost:8080/",
     "height": 181
    },
    "colab_type": "code",
    "executionInfo": {
     "elapsed": 1134,
     "status": "ok",
     "timestamp": 1523641848044,
     "user": {
      "displayName": "Jay Rodge",
      "photoUrl": "//lh3.googleusercontent.com/-DtQUHBRkzfQ/AAAAAAAAAAI/AAAAAAAAABQ/179kaxvx-yw/s50-c-k-no/photo.jpg",
      "userId": "112626264400025123297"
     },
     "user_tz": -330
    },
    "id": "tw-Igeq5VUrx",
    "outputId": "431bdc70-b91f-4543-f58c-b4ee5a5e43f4"
   },
   "outputs": [
    {
     "name": "stdout",
     "output_type": "stream",
     "text": [
      "WARNING:tensorflow:From <ipython-input-12-d575217325a2>:3: softmax_cross_entropy_with_logits (from tensorflow.python.ops.nn_ops) is deprecated and will be removed in a future version.\n",
      "Instructions for updating:\n",
      "\n",
      "Future major versions of TensorFlow will allow gradients to flow\n",
      "into the labels input on backprop by default.\n",
      "\n",
      "See tf.nn.softmax_cross_entropy_with_logits_v2.\n",
      "\n"
     ]
    }
   ],
   "source": [
    "rate = 0.001\n",
    "logits = LeNet(x)\n",
    "cross_entropy = tf.nn.softmax_cross_entropy_with_logits(labels=one_hot_y, logits=logits)\n",
    "loss_operation = tf.reduce_mean(cross_entropy)\n",
    "optimizer = tf.train.AdamOptimizer(learning_rate = rate)\n",
    "training_operation = optimizer.minimize(loss_operation)"
   ]
  },
  {
   "cell_type": "code",
   "execution_count": 0,
   "metadata": {
    "colab": {
     "autoexec": {
      "startup": false,
      "wait_interval": 0
     }
    },
    "colab_type": "code",
    "id": "Ybqgp2mWVUr1"
   },
   "outputs": [],
   "source": [
    "correct_prediction = tf.equal(tf.argmax(logits, 1), tf.argmax(one_hot_y, 1))\n",
    "accuracy_operation = tf.reduce_mean(tf.cast(correct_prediction, tf.float32))\n",
    "saver = tf.train.Saver()\n",
    "\n",
    "def evaluate(X_data, y_data):\n",
    "    num_examples = len(X_data)\n",
    "    total_accuracy = 0\n",
    "    total_loss = 0\n",
    "    sess = tf.get_default_session()\n",
    "    for offset in range(0, num_examples, BATCH_SIZE):\n",
    "        batch_x, batch_y = X_data[offset:offset+BATCH_SIZE], y_data[offset:offset+BATCH_SIZE]\n",
    "        accuracy = sess.run(accuracy_operation, feed_dict={x: batch_x, y: batch_y})\n",
    "        total_accuracy += (accuracy * len(batch_x))\n",
    "    return total_accuracy / num_examples"
   ]
  },
  {
   "cell_type": "code",
   "execution_count": 0,
   "metadata": {
    "colab": {
     "autoexec": {
      "startup": false,
      "wait_interval": 0
     }
    },
    "colab_type": "code",
    "id": "LOFrzW8t17sV"
   },
   "outputs": [],
   "source": [
    "train_loss_history = []\n",
    "valid_loss_history = []"
   ]
  },
  {
   "cell_type": "code",
   "execution_count": 0,
   "metadata": {
    "colab": {
     "autoexec": {
      "startup": false,
      "wait_interval": 0
     }
    },
    "colab_type": "code",
    "id": "VKfMmtdRVUr3"
   },
   "outputs": [],
   "source": [
    "from sklearn.utils import shuffle\n",
    "EPOCHS = 40\n",
    "BATCH_SIZE = 128"
   ]
  },
  {
   "cell_type": "markdown",
   "metadata": {
    "colab_type": "text",
    "id": "zsF1C_phVUr6"
   },
   "source": [
    "### Train, Validate and Test the Model"
   ]
  },
  {
   "cell_type": "markdown",
   "metadata": {
    "colab_type": "text",
    "id": "AllXlNfOVUr7"
   },
   "source": [
    "A validation set can be used to assess how well the model is performing. A low accuracy on the training and validation\n",
    "sets imply underfitting. A high accuracy on the training set but low accuracy on the validation set implies overfitting."
   ]
  },
  {
   "cell_type": "code",
   "execution_count": 15,
   "metadata": {
    "colab": {
     "autoexec": {
      "startup": false,
      "wait_interval": 0
     },
     "base_uri": "https://localhost:8080/",
     "height": 2231
    },
    "colab_type": "code",
    "executionInfo": {
     "elapsed": 94003,
     "status": "ok",
     "timestamp": 1523641948337,
     "user": {
      "displayName": "Jay Rodge",
      "photoUrl": "//lh3.googleusercontent.com/-DtQUHBRkzfQ/AAAAAAAAAAI/AAAAAAAAABQ/179kaxvx-yw/s50-c-k-no/photo.jpg",
      "userId": "112626264400025123297"
     },
     "user_tz": -330
    },
    "id": "JMUD5BKTVUr8",
    "outputId": "29c0005a-21f8-4692-af1a-85d7f417e5be"
   },
   "outputs": [
    {
     "name": "stdout",
     "output_type": "stream",
     "text": [
      "Training...\n",
      "\n",
      "EPOCH 1 ...\n",
      "Validation Accuracy = 0.700\n",
      "\n",
      "EPOCH 2 ...\n",
      "Validation Accuracy = 0.829\n",
      "\n",
      "EPOCH 3 ...\n",
      "Validation Accuracy = 0.876\n",
      "\n",
      "EPOCH 4 ...\n",
      "Validation Accuracy = 0.879\n",
      "\n",
      "EPOCH 5 ...\n",
      "Validation Accuracy = 0.901\n",
      "\n",
      "EPOCH 6 ...\n",
      "Validation Accuracy = 0.916\n",
      "\n",
      "EPOCH 7 ...\n",
      "Validation Accuracy = 0.898\n",
      "\n",
      "EPOCH 8 ...\n",
      "Validation Accuracy = 0.908\n",
      "\n",
      "EPOCH 9 ...\n",
      "Validation Accuracy = 0.914\n",
      "\n",
      "EPOCH 10 ...\n",
      "Validation Accuracy = 0.925\n",
      "\n",
      "EPOCH 11 ...\n",
      "Validation Accuracy = 0.926\n",
      "\n",
      "EPOCH 12 ...\n",
      "Validation Accuracy = 0.932\n",
      "\n",
      "EPOCH 13 ...\n",
      "Validation Accuracy = 0.920\n",
      "\n",
      "EPOCH 14 ...\n",
      "Validation Accuracy = 0.934\n",
      "\n",
      "EPOCH 15 ...\n",
      "Validation Accuracy = 0.937\n",
      "\n",
      "EPOCH 16 ...\n",
      "Validation Accuracy = 0.925\n",
      "\n",
      "EPOCH 17 ...\n",
      "Validation Accuracy = 0.924\n",
      "\n",
      "EPOCH 18 ...\n",
      "Validation Accuracy = 0.932\n",
      "\n",
      "EPOCH 19 ...\n",
      "Validation Accuracy = 0.941\n",
      "\n",
      "EPOCH 20 ...\n",
      "Validation Accuracy = 0.932\n",
      "\n",
      "EPOCH 21 ...\n",
      "Validation Accuracy = 0.924\n",
      "\n",
      "EPOCH 22 ...\n",
      "Validation Accuracy = 0.923\n",
      "\n",
      "EPOCH 23 ...\n",
      "Validation Accuracy = 0.939\n",
      "\n",
      "EPOCH 24 ...\n",
      "Validation Accuracy = 0.932\n",
      "\n",
      "EPOCH 25 ...\n",
      "Validation Accuracy = 0.922\n",
      "\n",
      "EPOCH 26 ...\n",
      "Validation Accuracy = 0.933\n",
      "\n",
      "EPOCH 27 ...\n",
      "Validation Accuracy = 0.933\n",
      "\n",
      "EPOCH 28 ...\n",
      "Validation Accuracy = 0.943\n",
      "\n",
      "EPOCH 29 ...\n",
      "Validation Accuracy = 0.939\n",
      "\n",
      "EPOCH 30 ...\n",
      "Validation Accuracy = 0.938\n",
      "\n",
      "EPOCH 31 ...\n",
      "Validation Accuracy = 0.934\n",
      "\n",
      "EPOCH 32 ...\n",
      "Validation Accuracy = 0.940\n",
      "\n",
      "EPOCH 33 ...\n",
      "Validation Accuracy = 0.933\n",
      "\n",
      "EPOCH 34 ...\n",
      "Validation Accuracy = 0.934\n",
      "\n",
      "EPOCH 35 ...\n",
      "Validation Accuracy = 0.937\n",
      "\n",
      "EPOCH 36 ...\n",
      "Validation Accuracy = 0.934\n",
      "\n",
      "EPOCH 37 ...\n",
      "Validation Accuracy = 0.949\n",
      "\n",
      "EPOCH 38 ...\n",
      "Validation Accuracy = 0.931\n",
      "\n",
      "EPOCH 39 ...\n",
      "Validation Accuracy = 0.939\n",
      "\n",
      "EPOCH 40 ...\n",
      "Validation Accuracy = 0.948\n",
      "\n",
      "Model saved\n"
     ]
    }
   ],
   "source": [
    "### Train your model here.\n",
    "### Calculate and report the accuracy on the training and validation set.\n",
    "### Once a final model architecture is selected, \n",
    "### the accuracy on the test set should be calculated and reported as well.\n",
    "### Feel free to use as many code cells as needed.\n",
    "with tf.Session() as sess:\n",
    "    sess.run(tf.global_variables_initializer())\n",
    "    num_examples = len(X_train_normalized)\n",
    "    \n",
    "    print(\"Training...\")\n",
    "    print()\n",
    "    for i in range(EPOCHS):\n",
    "        X_train_normalized, y_train = shuffle(X_train_normalized, y_train)\n",
    "        for offset in range(0, num_examples, BATCH_SIZE):\n",
    "            end = offset + BATCH_SIZE\n",
    "            batch_x, batch_y = X_train_normalized[offset:end], y_train[offset:end]\n",
    "            sess.run(training_operation, feed_dict={x: batch_x, y: batch_y})\n",
    "            \n",
    "        validation_accuracy = evaluate(X_valid_normalized, y_valid)\n",
    "\n",
    "        print(\"EPOCH {} ...\".format(i+1))\n",
    "        print(\"Validation Accuracy = {:.3f}\".format(validation_accuracy))\n",
    "        print()\n",
    "        \n",
    "    saver.save(sess, 'drive/Nanodegree/lenet')\n",
    "    print(\"Model saved\")"
   ]
  },
  {
   "cell_type": "code",
   "execution_count": 0,
   "metadata": {
    "colab": {
     "autoexec": {
      "startup": false,
      "wait_interval": 0
     },
     "base_uri": "https://localhost:8080/",
     "height": 35
    },
    "colab_type": "code",
    "executionInfo": {
     "elapsed": 783,
     "status": "ok",
     "timestamp": 1523515059058,
     "user": {
      "displayName": "Jay Rodge",
      "photoUrl": "//lh4.googleusercontent.com/-D9orSUO0DtQ/AAAAAAAAAAI/AAAAAAAAdDI/i6y921NDksQ/s50-c-k-no/photo.jpg",
      "userId": "106496062544740474963"
     },
     "user_tz": -330
    },
    "id": "SYz6rIU6YOLA",
    "outputId": "1fa91179-1d67-4e27-cd46-97b13223c775"
   },
   "outputs": [
    {
     "data": {
      "text/plain": [
       "(34799, 32, 32, 1)"
      ]
     },
     "execution_count": 21,
     "metadata": {
      "tags": []
     },
     "output_type": "execute_result"
    }
   ],
   "source": [
    "X_test_normalized.shape"
   ]
  },
  {
   "cell_type": "code",
   "execution_count": 0,
   "metadata": {
    "colab": {
     "autoexec": {
      "startup": false,
      "wait_interval": 0
     },
     "base_uri": "https://localhost:8080/",
     "height": 35
    },
    "colab_type": "code",
    "executionInfo": {
     "elapsed": 858,
     "status": "ok",
     "timestamp": 1523515073961,
     "user": {
      "displayName": "Jay Rodge",
      "photoUrl": "//lh4.googleusercontent.com/-D9orSUO0DtQ/AAAAAAAAAAI/AAAAAAAAdDI/i6y921NDksQ/s50-c-k-no/photo.jpg",
      "userId": "106496062544740474963"
     },
     "user_tz": -330
    },
    "id": "3oxBVHp1kvq9",
    "outputId": "4edb7553-18c7-4240-df05-7228955614fe"
   },
   "outputs": [
    {
     "data": {
      "text/plain": [
       "(34799, 32, 32, 1)"
      ]
     },
     "execution_count": 22,
     "metadata": {
      "tags": []
     },
     "output_type": "execute_result"
    }
   ],
   "source": [
    "X_train_normalized.shape"
   ]
  },
  {
   "cell_type": "code",
   "execution_count": 16,
   "metadata": {
    "colab": {
     "autoexec": {
      "startup": false,
      "wait_interval": 0
     },
     "base_uri": "https://localhost:8080/",
     "height": 53
    },
    "colab_type": "code",
    "executionInfo": {
     "elapsed": 1994,
     "status": "ok",
     "timestamp": 1523641980654,
     "user": {
      "displayName": "Jay Rodge",
      "photoUrl": "//lh3.googleusercontent.com/-DtQUHBRkzfQ/AAAAAAAAAAI/AAAAAAAAABQ/179kaxvx-yw/s50-c-k-no/photo.jpg",
      "userId": "112626264400025123297"
     },
     "user_tz": -330
    },
    "id": "PjL6T2KO6jLQ",
    "outputId": "9586ca39-9547-496d-f1bf-0333ec495e27"
   },
   "outputs": [
    {
     "name": "stdout",
     "output_type": "stream",
     "text": [
      "INFO:tensorflow:Restoring parameters from drive/Nanodegree/lenet\n",
      "Test Set Accuracy = 0.929\n"
     ]
    }
   ],
   "source": [
    "with tf.Session() as sess:\n",
    "    sess.run(tf.global_variables_initializer())\n",
    "    saver2 = tf.train.import_meta_graph('drive/Nanodegree/lenet.meta')\n",
    "    saver.restore(sess, \"drive/Nanodegree/lenet\")\n",
    "    test_accuracy = evaluate(X_test_normalized, y_test)\n",
    "    print(\"Test Set Accuracy = {:.3f}\".format(test_accuracy))"
   ]
  },
  {
   "cell_type": "markdown",
   "metadata": {
    "colab_type": "text",
    "id": "Tw0SIaTFVUsD"
   },
   "source": [
    "### Load and Output the Images"
   ]
  },
  {
   "cell_type": "markdown",
   "metadata": {
    "colab_type": "text",
    "id": "aa9cNkEuVUsC"
   },
   "source": [
    "---\n",
    "\n",
    "## Step 3: Test a Model on New Images\n",
    "\n",
    "To give yourself more insight into how your model is working, download at least five pictures of German traffic signs from the web and use your model to predict the traffic sign type.\n",
    "\n",
    "You may find `signnames.csv` useful as it contains mappings from the class id (integer) to the actual sign name."
   ]
  },
  {
   "cell_type": "code",
   "execution_count": 17,
   "metadata": {
    "colab": {
     "autoexec": {
      "startup": false,
      "wait_interval": 0
     },
     "base_uri": "https://localhost:8080/",
     "height": 269
    },
    "colab_type": "code",
    "executionInfo": {
     "elapsed": 1531,
     "status": "ok",
     "timestamp": 1523641987263,
     "user": {
      "displayName": "Jay Rodge",
      "photoUrl": "//lh3.googleusercontent.com/-DtQUHBRkzfQ/AAAAAAAAAAI/AAAAAAAAABQ/179kaxvx-yw/s50-c-k-no/photo.jpg",
      "userId": "112626264400025123297"
     },
     "user_tz": -330
    },
    "id": "aZ1DuALbVUsE",
    "outputId": "02a220f9-ccef-4e10-e8de-024e57aa6c06"
   },
   "outputs": [
    {
     "data": {
      "image/png": "[encoded data removed]",
      "text/plain": [
       "<matplotlib.figure.Figure at 0x7f3decc5b358>"
      ]
     },
     "metadata": {
      "tags": []
     },
     "output_type": "display_data"
    }
   ],
   "source": [
    "### Load the images and plot them here.\n",
    "import cv2\n",
    "import glob\n",
    "fig, axs = plt.subplots(2,3, figsize=(6, 4))\n",
    "fig.subplots_adjust(hspace = .2, wspace=.001)\n",
    "axs = axs.ravel()\n",
    "images=[]\n",
    "for i, img in enumerate(glob.glob('drive/Nanodegree/Signs/*.png')):\n",
    "    image = cv2.imread(img)\n",
    "    image=cv2.resize(image,(32,32))\n",
    "    axs[i].axis('off')\n",
    "    axs[i].imshow(cv2.cvtColor(image, cv2.COLOR_BGR2RGB))\n",
    "    images.append(image)\n",
    "    \n",
    "images = np.asarray(images)\n",
    "images_gray = np.sum(images/3, axis=3, keepdims=True)\n",
    "images_normalized = (images_gray - 128)/128 \n",
    "\n",
    "### Feel free to use as many code cells as needed."
   ]
  },
  {
   "cell_type": "code",
   "execution_count": 0,
   "metadata": {
    "colab": {
     "autoexec": {
      "startup": false,
      "wait_interval": 0
     }
    },
    "colab_type": "code",
    "id": "7SzAP9So7_2n"
   },
   "outputs": [],
   "source": [
    "plt.imshow(images_normalized[3].squeeze(),cmap='gray')"
   ]
  },
  {
   "cell_type": "markdown",
   "metadata": {
    "colab_type": "text",
    "id": "AKEWpiKuVUsI"
   },
   "source": [
    "### Predict the Sign Type for Each Image"
   ]
  },
  {
   "cell_type": "code",
   "execution_count": 44,
   "metadata": {
    "colab": {
     "autoexec": {
      "startup": false,
      "wait_interval": 0
     },
     "base_uri": "https://localhost:8080/",
     "height": 143
    },
    "colab_type": "code",
    "executionInfo": {
     "elapsed": 862,
     "status": "ok",
     "timestamp": 1523643303436,
     "user": {
      "displayName": "Jay Rodge",
      "photoUrl": "//lh3.googleusercontent.com/-DtQUHBRkzfQ/AAAAAAAAAAI/AAAAAAAAABQ/179kaxvx-yw/s50-c-k-no/photo.jpg",
      "userId": "112626264400025123297"
     },
     "user_tz": -330
    },
    "id": "khRTQYB-VUsJ",
    "outputId": "95c5692b-519f-4cb9-f4f3-595f103a0013"
   },
   "outputs": [
    {
     "name": "stdout",
     "output_type": "stream",
     "text": [
      "INFO:tensorflow:Restoring parameters from drive/Nanodegree/lenet\n",
      "Prediction: [1 'Speed limit (30km/h)']\n",
      "Prediction: [36 'Go straight or right']\n",
      "Prediction: [17 'No entry']\n",
      "Prediction: [13 'Yield']\n",
      "Prediction: [11 'Right-of-way at the next intersection']\n",
      "Prediction: [34 'Turn left ahead']\n"
     ]
    }
   ],
   "source": [
    "### Run the predictions here and use the model to output the prediction for each image.\n",
    "### Make sure to pre-process the images with the same pre-processing pipeline used earlier.\n",
    "### Feel free to use as many code cells as needed.\n",
    "# labels=[1,22,14,33,38,9]\n",
    "labels=[1,36,17,13,11,34]\n",
    "import pandas as pd\n",
    "import tensorflow as tf\n",
    "labels = pd.read_csv('drive/Nanodegree/signnames.csv').values\n",
    "\n",
    "with tf.Session() as sess:\n",
    "    saver.restore(sess,'drive/Nanodegree/lenet')\n",
    "    predicted_logits = sess.run(logits, feed_dict={x: images_normalized})\n",
    "    index = np.argmax(predicted_logits, axis=1)\n",
    "    for i in range(len(images)):\n",
    "        print(\"Prediction: {0}\".format(labels[index[i]]))"
   ]
  },
  {
   "cell_type": "code",
   "execution_count": 20,
   "metadata": {
    "colab": {
     "autoexec": {
      "startup": false,
      "wait_interval": 0
     },
     "base_uri": "https://localhost:8080/",
     "height": 53
    },
    "colab_type": "code",
    "executionInfo": {
     "elapsed": 1554,
     "status": "ok",
     "timestamp": 1523642141256,
     "user": {
      "displayName": "Jay Rodge",
      "photoUrl": "//lh3.googleusercontent.com/-DtQUHBRkzfQ/AAAAAAAAAAI/AAAAAAAAABQ/179kaxvx-yw/s50-c-k-no/photo.jpg",
      "userId": "112626264400025123297"
     },
     "user_tz": -330
    },
    "id": "mx6qO7GGVUsL",
    "outputId": "a80965e7-f3e7-4d1d-bd78-e0d3bf97f598"
   },
   "outputs": [
    {
     "name": "stdout",
     "output_type": "stream",
     "text": [
      "INFO:tensorflow:Restoring parameters from drive/Nanodegree/lenet\n",
      "Test Accuracy = 1.000\n"
     ]
    }
   ],
   "source": [
    "with tf.Session() as sess:\n",
    "    sess.run(tf.global_variables_initializer())\n",
    "    saver3 = tf.train.import_meta_graph('drive/Nanodegree/lenet.meta')\n",
    "    saver.restore(sess,'drive/Nanodegree/lenet')    \n",
    "    test_accuracy = evaluate(images_normalized, labels)\n",
    "    print(\"Test Accuracy = {:.3f}\".format(test_accuracy))\n",
    "    \n"
   ]
  },
  {
   "cell_type": "markdown",
   "metadata": {
    "colab_type": "text",
    "id": "8mKxIV2tVUsP"
   },
   "source": [
    "### Analyze Performance"
   ]
  },
  {
   "cell_type": "code",
   "execution_count": 25,
   "metadata": {
    "colab": {
     "autoexec": {
      "startup": false,
      "wait_interval": 0
     },
     "base_uri": "https://localhost:8080/",
     "height": 35
    },
    "colab_type": "code",
    "executionInfo": {
     "elapsed": 848,
     "status": "ok",
     "timestamp": 1523642239951,
     "user": {
      "displayName": "Jay Rodge",
      "photoUrl": "//lh3.googleusercontent.com/-DtQUHBRkzfQ/AAAAAAAAAAI/AAAAAAAAABQ/179kaxvx-yw/s50-c-k-no/photo.jpg",
      "userId": "112626264400025123297"
     },
     "user_tz": -330
    },
    "id": "64VJAyIjkhpS",
    "outputId": "efb5c756-0fc4-4de4-e77f-e6cf8305b840"
   },
   "outputs": [
    {
     "name": "stdout",
     "output_type": "stream",
     "text": [
      "Accuracy of web images is :1.0\n"
     ]
    }
   ],
   "source": [
    "labels=[1,36,17,13,11,34] #image label according to signname.csv\n",
    "accuracy_web = (np.equal(labels,index).sum())/ 6\n",
    "print ('Accuracy of web images is :{}'.format(accuracy_web))"
   ]
  },
  {
   "cell_type": "markdown",
   "metadata": {
    "colab_type": "text",
    "id": "8qoRSvCkVUsT"
   },
   "source": [
    "### Output Top 5 Softmax Probabilities For Each Image Found on the Web"
   ]
  },
  {
   "cell_type": "markdown",
   "metadata": {
    "colab_type": "text",
    "id": "8LUXky29VUsU"
   },
   "source": [
    "For each of the new images, print out the model's softmax probabilities to show the **certainty** of the model's predictions (limit the output to the top 5 probabilities for each image). [`tf.nn.top_k`](https://www.tensorflow.org/versions/r0.12/api_docs/python/nn.html#top_k) could prove helpful here. \n",
    "\n",
    "The example below demonstrates how tf.nn.top_k can be used to find the top k predictions for each image.\n",
    "\n",
    "`tf.nn.top_k` will return the values and indices (class ids) of the top k predictions. So if k=3, for each sign, it'll return the 3 largest probabilities (out of a possible 43) and the correspoding class ids.\n",
    "\n",
    "Take this numpy array as an example. The values in the array represent predictions. The array contains softmax probabilities for five candidate images with six possible classes. `tf.nn.top_k` is used to choose the three classes with the highest probability:\n",
    "\n",
    "```\n",
    "# (5, 6) array\n",
    "a = np.array([[ 0.24879643,  0.07032244,  0.12641572,  0.34763842,  0.07893497,\n",
    "         0.12789202],\n",
    "       [ 0.28086119,  0.27569815,  0.08594638,  0.0178669 ,  0.18063401,\n",
    "         0.15899337],\n",
    "       [ 0.26076848,  0.23664738,  0.08020603,  0.07001922,  0.1134371 ,\n",
    "         0.23892179],\n",
    "       [ 0.11943333,  0.29198961,  0.02605103,  0.26234032,  0.1351348 ,\n",
    "         0.16505091],\n",
    "       [ 0.09561176,  0.34396535,  0.0643941 ,  0.16240774,  0.24206137,\n",
    "         0.09155967]])\n",
    "```\n",
    "\n",
    "Running it through `sess.run(tf.nn.top_k(tf.constant(a), k=3))` produces:\n",
    "\n",
    "```\n",
    "TopKV2(values=array([[ 0.34763842,  0.24879643,  0.12789202],\n",
    "       [ 0.28086119,  0.27569815,  0.18063401],\n",
    "       [ 0.26076848,  0.23892179,  0.23664738],\n",
    "       [ 0.29198961,  0.26234032,  0.16505091],\n",
    "       [ 0.34396535,  0.24206137,  0.16240774]]), indices=array([[3, 0, 5],\n",
    "       [0, 1, 4],\n",
    "       [0, 5, 1],\n",
    "       [1, 3, 5],\n",
    "       [1, 4, 3]], dtype=int32))\n",
    "```\n",
    "\n",
    "Looking just at the first row we get `[ 0.34763842,  0.24879643,  0.12789202]`, you can confirm these are the 3 largest probabilities in `a`. You'll also notice `[3, 0, 5]` are the corresponding indices."
   ]
  },
  {
   "cell_type": "code",
   "execution_count": 46,
   "metadata": {
    "colab": {
     "autoexec": {
      "startup": false,
      "wait_interval": 0
     },
     "base_uri": "https://localhost:8080/",
     "height": 791
    },
    "colab_type": "code",
    "executionInfo": {
     "elapsed": 869,
     "status": "ok",
     "timestamp": 1523643321998,
     "user": {
      "displayName": "Jay Rodge",
      "photoUrl": "//lh3.googleusercontent.com/-DtQUHBRkzfQ/AAAAAAAAAAI/AAAAAAAAABQ/179kaxvx-yw/s50-c-k-no/photo.jpg",
      "userId": "112626264400025123297"
     },
     "user_tz": -330
    },
    "id": "1AtwhIKrVUsW",
    "outputId": "cf300240-1be2-4a2b-baa8-9b69a89d70b7"
   },
   "outputs": [
    {
     "name": "stdout",
     "output_type": "stream",
     "text": [
      "INFO:tensorflow:Restoring parameters from drive/Nanodegree/lenet\n",
      "For test image 1:\n",
      "[1 'Speed limit (30km/h)']:   0.96446\n",
      "[3 'Speed limit (60km/h)']:   0.03542\n",
      "[19 'Dangerous curve to the left']:   0.00007\n",
      "[2 'Speed limit (50km/h)']:   0.00005\n",
      "[32 'End of all speed and passing limits']:   0.00000\n",
      "\n",
      "For test image 2:\n",
      "[36 'Go straight or right']:   1.00000\n",
      "[1 'Speed limit (30km/h)']:   0.00000\n",
      "[0 'Speed limit (20km/h)']:   0.00000\n",
      "[4 'Speed limit (70km/h)']:   0.00000\n",
      "[29 'Bicycles crossing']:   0.00000\n",
      "\n",
      "For test image 3:\n",
      "[17 'No entry']:   1.00000\n",
      "[12 'Priority road']:   0.00000\n",
      "[15 'No vehicles']:   0.00000\n",
      "[32 'End of all speed and passing limits']:   0.00000\n",
      "[34 'Turn left ahead']:   0.00000\n",
      "\n",
      "For test image 4:\n",
      "[13 'Yield']:   1.00000\n",
      "[15 'No vehicles']:   0.00000\n",
      "[38 'Keep right']:   0.00000\n",
      "[35 'Ahead only']:   0.00000\n",
      "[4 'Speed limit (70km/h)']:   0.00000\n",
      "\n",
      "For test image 5:\n",
      "[11 'Right-of-way at the next intersection']:   1.00000\n",
      "[30 'Beware of ice/snow']:   0.00000\n",
      "[21 'Double curve']:   0.00000\n",
      "[40 'Roundabout mandatory']:   0.00000\n",
      "[27 'Pedestrians']:   0.00000\n",
      "\n",
      "For test image 6:\n",
      "[34 'Turn left ahead']:   0.87606\n",
      "[6 'End of speed limit (80km/h)']:   0.12230\n",
      "[32 'End of all speed and passing limits']:   0.00132\n",
      "[30 'Beware of ice/snow']:   0.00026\n",
      "[38 'Keep right']:   0.00004\n",
      "\n"
     ]
    }
   ],
   "source": [
    "K=5\n",
    "with tf.Session() as sess:\n",
    "    saver.restore(sess, 'drive/Nanodegree/lenet')  \n",
    "    predicted_softmax = tf.nn.softmax(predicted_logits)\n",
    "    top_entries = sess.run(tf.nn.top_k(predicted_softmax, k=5))\n",
    "    for i in range(len(images)):\n",
    "        print(\"For test image {0}:\".format(i+1))\n",
    "        for j in range(K):\n",
    "            \n",
    "            print(\"{}:   {:.5f}\".format(labels[top_entries[1][i][j]], top_entries[0][i][j]))\n",
    "        print()\n",
    "### Feel free to use as many code cells as needed."
   ]
  },
  {
   "cell_type": "markdown",
   "metadata": {
    "colab_type": "text",
    "id": "sfIhgJnbVUsZ"
   },
   "source": [
    "### Project Writeup\n",
    "\n",
    "Once you have completed the code implementation, document your results in a project writeup using this [template](https://github.com/udacity/CarND-Traffic-Sign-Classifier-Project/blob/master/writeup_template.md) as a guide. The writeup can be in a markdown or pdf file. "
   ]
  },
  {
   "cell_type": "markdown",
   "metadata": {
    "colab_type": "text",
    "id": "Zml1LeKwVUsa"
   },
   "source": [
    "> **Note**: Once you have completed all of the code implementations and successfully answered each question above, you may finalize your work by exporting the iPython Notebook as an HTML document. You can do this by using the menu above and navigating to  \\n\",\n",
    "    \"**File -> Download as -> HTML (.html)**. Include the finished document along with this notebook as your submission."
   ]
  },
  {
   "cell_type": "markdown",
   "metadata": {
    "colab_type": "text",
    "id": "j1hJrq6lVUsc"
   },
   "source": [
    "---\n",
    "\n",
    "## Step 4 (Optional): Visualize the Neural Network's State with Test Images\n",
    "\n",
    " This Section is not required to complete but acts as an additional excersise for understaning the output of a neural network's weights. While neural networks can be a great learning device they are often referred to as a black box. We can understand what the weights of a neural network look like better by plotting their feature maps. After successfully training your neural network you can see what it's feature maps look like by plotting the output of the network's weight layers in response to a test stimuli image. From these plotted feature maps, it's possible to see what characteristics of an image the network finds interesting. For a sign, maybe the inner network feature maps react with high activation to the sign's boundary outline or to the contrast in the sign's painted symbol.\n",
    "\n",
    " Provided for you below is the function code that allows you to get the visualization output of any tensorflow weight layer you want. The inputs to the function should be a stimuli image, one used during training or a new one you provided, and then the tensorflow variable name that represents the layer's state during the training process, for instance if you wanted to see what the [LeNet lab's](https://classroom.udacity.com/nanodegrees/nd013/parts/fbf77062-5703-404e-b60c-95b78b2f3f9e/modules/6df7ae49-c61c-4bb2-a23e-6527e69209ec/lessons/601ae704-1035-4287-8b11-e2c2716217ad/concepts/d4aca031-508f-4e0b-b493-e7b706120f81) feature maps looked like for it's second convolutional layer you could enter conv2 as the tf_activation variable.\n",
    "\n",
    "For an example of what feature map outputs look like, check out NVIDIA's results in their paper [End-to-End Deep Learning for Self-Driving Cars](https://devblogs.nvidia.com/parallelforall/deep-learning-self-driving-cars/) in the section Visualization of internal CNN State. NVIDIA was able to show that their network's inner weights had high activations to road boundary lines by comparing feature maps from an image with a clear path to one without. Try experimenting with a similar test to show that your trained network's weights are looking for interesting features, whether it's looking at differences in feature maps from images with or without a sign, or even what feature maps look like in a trained network vs a completely untrained one on the same sign image.\n",
    "\n",
    "<figure>\n",
    " <img src=\"visualize_cnn.png\" width=\"380\" alt=\"Combined Image\" />\n",
    " <figcaption>\n",
    " <p></p> \n",
    " <p style=\"text-align: center;\"> Your output should look something like this (above)</p> \n",
    " </figcaption>\n",
    "</figure>\n",
    " <p></p> \n"
   ]
  },
  {
   "cell_type": "code",
   "execution_count": 0,
   "metadata": {
    "colab": {
     "autoexec": {
      "startup": false,
      "wait_interval": 0
     }
    },
    "colab_type": "code",
    "id": "UYF0uNCZVUsd"
   },
   "outputs": [],
   "source": [
    "### Visualize your network's feature maps here.\n",
    "### Feel free to use as many code cells as needed.\n",
    "\n",
    "# image_input: the test image being fed into the network to produce the feature maps\n",
    "# tf_activation: should be a tf variable name used during your training procedure that represents the calculated state of a specific weight layer\n",
    "# activation_min/max: can be used to view the activation contrast in more detail, by default matplot sets min and max to the actual min and max values of the output\n",
    "# plt_num: used to plot out multiple different weight feature map sets on the same block, just extend the plt number for each new feature map entry\n",
    "\n",
    "def outputFeatureMap(image_input, tf_activation, activation_min=-1, activation_max=-1 ,plt_num=1):\n",
    "    # Here make sure to preprocess your image_input in a way your network expects\n",
    "    # with size, normalization, ect if needed\n",
    "    # image_input =\n",
    "    # Note: x should be the same name as your network's tensorflow data placeholder variable\n",
    "    # If you get an error tf_activation is not defined it may be having trouble accessing the variable from inside a function\n",
    "    activation = tf_activation.eval(session=sess,feed_dict={x : image_input})\n",
    "    featuremaps = activation.shape[3]\n",
    "    plt.figure(plt_num, figsize=(15,15))\n",
    "    for featuremap in range(featuremaps):\n",
    "        plt.subplot(6,8, featuremap+1) # sets the number of feature maps to show on each row and column\n",
    "        plt.title('FeatureMap ' + str(featuremap)) # displays the feature map number\n",
    "        if activation_min != -1 & activation_max != -1:\n",
    "            plt.imshow(activation[0,:,:, featuremap], interpolation=\"nearest\", vmin =activation_min, vmax=activation_max, cmap=\"gray\")\n",
    "        elif activation_max != -1:\n",
    "            plt.imshow(activation[0,:,:, featuremap], interpolation=\"nearest\", vmax=activation_max, cmap=\"gray\")\n",
    "        elif activation_min !=-1:\n",
    "            plt.imshow(activation[0,:,:, featuremap], interpolation=\"nearest\", vmin=activation_min, cmap=\"gray\")\n",
    "        else:\n",
    "            plt.imshow(activation[0,:,:, featuremap], interpolation=\"nearest\", cmap=\"gray\")"
   ]
  },
  {
   "cell_type": "code",
   "execution_count": 0,
   "metadata": {
    "colab": {
     "autoexec": {
      "startup": false,
      "wait_interval": 0
     }
    },
    "colab_type": "code",
    "id": "XrPUoV3FVZQH"
   },
   "outputs": [],
   "source": []
  }
 ],
 "metadata": {
  "accelerator": "GPU",
  "colab": {
   "collapsed_sections": [],
   "default_view": {},
   "name": "Traffic_Sign_Classifier.ipynb",
   "provenance": [],
   "version": "0.3.2",
   "views": {}
  },
  "kernelspec": {
   "display_name": "Python [default]",
   "language": "python",
   "name": "python3"
  },
  "language_info": {
   "codemirror_mode": {
    "name": "ipython",
    "version": 3
   },
   "file_extension": ".py",
   "mimetype": "text/x-python",
   "name": "python",
   "nbconvert_exporter": "python",
   "pygments_lexer": "ipython3",
   "version": "3.5.4"
  }
 },
 "nbformat": 4,
 "nbformat_minor": 1
}
